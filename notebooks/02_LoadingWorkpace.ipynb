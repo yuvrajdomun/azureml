{
 "cells": [
  {
   "cell_type": "code",
   "execution_count": 1,
   "metadata": {},
   "outputs": [
    {
     "name": "stdout",
     "output_type": "stream",
     "text": [
      "2020-03-28 20:58:37,047 - root - INFO - ** Kedro project AzureDataScience\n",
      "2020-03-28 20:58:37,048 - root - INFO - Defined global variable `context` and `catalog`\n",
      "\u001b[33mTraceback (most recent call last):\n",
      "  File \"/home/yuvraj/anaconda3/envs/AzureDS/lib/python3.6/site-packages/kedro/cli/cli.py\", line 594, in load_entry_points\n",
      "    entry_point_commands.append(entry_point.load())\n",
      "  File \"/home/yuvraj/.local/lib/python3.6/site-packages/pkg_resources/__init__.py\", line 2442, in load\n",
      "    self.require(*args, **kwargs)\n",
      "  File \"/home/yuvraj/.local/lib/python3.6/site-packages/pkg_resources/__init__.py\", line 2465, in require\n",
      "    items = working_set.resolve(reqs, env, installer, extras=self.extras)\n",
      "  File \"/home/yuvraj/.local/lib/python3.6/site-packages/pkg_resources/__init__.py\", line 791, in resolve\n",
      "    raise VersionConflict(dist, req).with_context(dependent_req)\n",
      "pkg_resources.ContextualVersionConflict: (six 1.12.0 (/home/yuvraj/.local/lib/python3.6/site-packages), Requirement.parse('six<2.0.0dev,>=1.13.0'), {'google-cloud-bigquery'})\n",
      "\u001b[0m\u001b[31mError: Loading line_magic commands from line_magic = kedro_viz.server:run_viz\u001b[0m\n"
     ]
    }
   ],
   "source": [
    "%reload_kedro\n",
    "\n",
    "# Load Credentials\n",
    "from kedro.config import ConfigLoader\n",
    "\n",
    "conf_paths = [\"conf/base\", \"conf/local\"]\n",
    "conf_loader = ConfigLoader(conf_paths)\n",
    "conf_catalog = conf_loader.get(\"credentials*\")"
   ]
  },
  {
   "cell_type": "markdown",
   "metadata": {},
   "source": [
    "# 1. Connecting to a Worksapce\n",
    "\n",
    "After installing the SDK package in your Python environment, you can write code to connect to your workspace and perform machine learning operations. The easiest way to connect to a workspace is to use a workspace configuration file, which includes the Azure subscription, resource group, and workspace details as shown here:\n",
    "\n",
    "```json\n",
    "{\n",
    "    \"subscription_id\": \"1234567-abcde-890-fgh...\",\n",
    "    \"resource_group\": \"aml-resources\",\n",
    "    \"workspace_name\": \"aml-workspace\"\n",
    "}\n",
    "```\n",
    "\n",
    "> *Tip*: You can download a configuration file for a workspace from the Overview page of its blade in the Azure portal.\n",
    "\n",
    "To connect to the workspace using the configuration file, you can use the <b>from_config</b> method of the <b>Workspace</b> class in the SDK, as shown here:\n",
    "\n",
    "```python\n",
    "from azureml.core import Workspace\n",
    "\n",
    "ws = Workspace.from_config()\n",
    "```\n",
    "\n",
    "By default, the from_config method looks for a file named config.json in the folder containing the Python code file, but you can specify another path if necessary.\n",
    "\n",
    "As an alternative to using a configuration file, you can use the get method of the Workspace class with explicitly specified subscription, resource group, and workspace details as shown here - though the configuration file technique is generally preferred due to its greater flexibility when using multiple scripts:\n",
    "\n",
    "```python\n",
    "from azureml.core import Workspace\n",
    "\n",
    "ws = Workspace.get(name='aml-workspace',\n",
    "                   subscription_id='1234567-abcde-890-fgh...',\n",
    "                 resource_group='aml-resources')\n",
    "```\n",
    "                   \n",
    "Whichever technique you use, if there is no current active session with your Azure subscription, you will be prompted to authenticate.\n",
    "\n"
   ]
  },
  {
   "cell_type": "code",
   "execution_count": 2,
   "metadata": {},
   "outputs": [
    {
     "name": "stderr",
     "output_type": "stream",
     "text": [
      "/home/yuvraj/anaconda3/envs/AzureDS/lib/python3.6/site-packages/azureml/data/dataset_type_definitions.py:69: DeprecationWarning: FileType Enum is Deprecated in > 1.0.39. Use strings instead.\n",
      "  category=DeprecationWarning)\n"
     ]
    },
    {
     "name": "stdout",
     "output_type": "stream",
     "text": [
      "2020-03-28 20:58:44,300 - adal-python - INFO - f68f8811-0292-485f-b0f4-048fe3da8061 - CacheDriver:Cached token is expired at 2020-03-28 18:51:10.496461.  Refreshing\n",
      "2020-03-28 20:58:44,301 - adal-python - INFO - f68f8811-0292-485f-b0f4-048fe3da8061 - TokenRequest:Getting a new token from a refresh token\n",
      "2020-03-28 20:58:44,700 - adal-python - INFO - f68f8811-0292-485f-b0f4-048fe3da8061 - CacheDriver:Returning token refreshed after expiry.\n"
     ]
    }
   ],
   "source": [
    "from azureml.core import Workspace\n",
    "\n",
    "# Get Worksapce from subscription ID\n",
    "ws = Workspace.get(name=\"azml-workspace\",\n",
    "                   subscription_id=conf_catalog['azure_ml']['subscription_id'],\n",
    "                   resource_group='aml-resources')\n",
    "\n"
   ]
  },
  {
   "cell_type": "markdown",
   "metadata": {},
   "source": [
    "# View Azure Now that you have a connection to your workspace, you can view the resources it contains.\n",
    "\n",
    "Now that you have a connection to your workspace, you can view the resources it contains.\n",
    "\n",
    "```python\n",
    "from azureml.core import ComputeTarget, Datastore, Dataset\n",
    "\n",
    "print(\"Compute Targets:\")\n",
    "for compute_name in ws.compute_targets:\n",
    "    compute = ws.compute_targets[compute_name]\n",
    "    print(\"\\t\", compute.name, ':', compute.type)\n",
    "    \n",
    "print(\"Datastores:\")\n",
    "for datastore_name in ws.datastores:\n",
    "    datastore = Datastore.get(ws, datastore_name)\n",
    "    print(\"\\t\", datastore.name, ':', datastore.datastore_type)\n",
    "    \n",
    "print(\"Datasets:\")\n",
    "for dataset_name in list(ws.datasets.keys()):\n",
    "    dataset = Dataset.get_by_name(ws, dataset_name)\n",
    "    print(\"\\t\", dataset.name)\n",
    "    \n",
    "```\n",
    "\n",
    "Now you've seen how to use the Azure ML SDK to view the resources in your workspace. The SDK provides a great way to script the creation and configuration of the resources you need to operate machine learning workloads using Azure ML. For more details, see the [Azure ML SDK documentation](https://docs.microsoft.com/en-gb/python/api/overview/azure/ml/?view=azure-ml-py)."
   ]
  },
  {
   "cell_type": "code",
   "execution_count": 3,
   "metadata": {},
   "outputs": [
    {
     "name": "stdout",
     "output_type": "stream",
     "text": [
      "Compute Targets:\n",
      "Datastores:\n",
      "2020-03-28 20:58:57,627 - azureml.data.datastore_client - INFO - <azureml.core.authentication.InteractiveLoginAuthentication object at 0x7fb67cee8358>\n",
      "2020-03-28 20:59:01,672 - azureml.data.datastore_client - INFO - <azureml.core.authentication.InteractiveLoginAuthentication object at 0x7fb67cee8358>\n",
      "\t workspaceblobstore : AzureBlob\n",
      "2020-03-28 20:59:02,405 - azureml.data.datastore_client - INFO - <azureml.core.authentication.InteractiveLoginAuthentication object at 0x7fb67cee8358>\n",
      "\t workspacefilestore : AzureFile\n",
      "Datasets:\n"
     ]
    }
   ],
   "source": [
    "from azureml.core import ComputeTarget, Datastore, Dataset\n",
    "\n",
    "print(\"Compute Targets:\")\n",
    "for compute_name in ws.compute_targets:\n",
    "    compute = ws.compute_targets[compute_name]\n",
    "    print(\"\\t\", compute.name, ':', compute.type)\n",
    "    \n",
    "print(\"Datastores:\")\n",
    "for datastore_name in ws.datastores:\n",
    "    datastore = Datastore.get(ws, datastore_name)\n",
    "    print(\"\\t\", datastore.name, ':', datastore.datastore_type)\n",
    "    \n",
    "print(\"Datasets:\")\n",
    "for dataset_name in list(ws.datasets.keys()):\n",
    "    dataset = Dataset.get_by_name(ws, dataset_name)\n",
    "    print(\"\\t\", dataset.name)"
   ]
  },
  {
   "cell_type": "code",
   "execution_count": null,
   "metadata": {},
   "outputs": [],
   "source": []
  }
 ],
 "metadata": {
  "kernelspec": {
   "display_name": "AzureDataScience",
   "language": "python",
   "name": "python3"
  },
  "language_info": {
   "codemirror_mode": {
    "name": "ipython",
    "version": 3
   },
   "file_extension": ".py",
   "mimetype": "text/x-python",
   "name": "python",
   "nbconvert_exporter": "python",
   "pygments_lexer": "ipython3",
   "version": "3.6.10"
  }
 },
 "nbformat": 4,
 "nbformat_minor": 4
}
