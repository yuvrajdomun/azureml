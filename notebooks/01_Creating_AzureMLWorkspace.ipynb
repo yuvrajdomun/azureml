{
 "cells": [
  {
   "cell_type": "markdown",
   "metadata": {},
   "source": [
    "# 1. Loading Credentials from Kedro\n",
    "\n",
    "# Configuration\n",
    "\n",
    "> *Note:* This documentation is based on `Kedro 0.15.8`, if you spot anything that is incorrect then please create an [issue](https://github.com/quantumblacklabs/kedro/issues) or pull request.\n",
    ">\n",
    "> This section contains detailed information about configuration.\n",
    "\n",
    "Relevant API documentation: [ConfigLoader](/kedro.config.ConfigLoader)\n",
    "\n",
    "## Local and base configuration\n",
    "\n",
    "We recommend that you keep all configuration files in the `conf` directory of a Kedro project. However, if you prefer, you may point Kedro to any other directory and change the configuration paths by overriding `CONF_ROOT` variable from the derived `ProjectContext` class in `src/<project-package>/run.py` as follows:\n",
    "```python\n",
    "class ProjectContext(KedroContext):\n",
    "    CONF_ROOT = \"new_conf\"\n",
    "    # ...\n",
    "```\n",
    "\n",
    "## Loading\n",
    "\n",
    "Kedro-specific configuration (e.g., `DataCatalog` configuration for IO) is loaded using the `ConfigLoader` class:\n",
    "\n",
    "```python\n",
    "from kedro.config import ConfigLoader\n",
    "\n",
    "conf_paths = [\"conf/base\", \"conf/local\"]\n",
    "conf_loader = ConfigLoader(conf_paths)\n",
    "conf_catalog = conf_loader.get(\"catalog*\", \"catalog*/**\")\n",
    "```\n",
    "\n",
    "This will recursively scan for configuration files firstly in `conf/base/` and then in `conf/local/` directory according to the following rules:\n",
    "\n",
    "* ANY of the following is true:\n",
    "  * filename starts with `catalog` OR\n",
    "  * file is located in a sub-directory whose name is prefixed with `catalog`\n",
    "* AND file extension is one of the following: `yaml`, `yml`, `json`, `ini`, `pickle`, `xml` or `properties`\n",
    "\n",
    "Configuration information from files stored in `base` or `local` that match these rules is merged at runtime and returned in the form of a config dictionary:\n",
    "\n",
    "* If any 2 configuration files located inside the same environment path (`conf/base/` or `conf/local/` in this example) contain the same top-level key, `load_config` will raise a `ValueError` indicating that the duplicates are not allowed.\n",
    "\n",
    "> *Note:* Any top-level keys that start with `_` character are considered hidden (or reserved) and therefore are ignored right after the config load. Those keys will neither trigger a key duplication error mentioned above, nor will they appear in the resulting configuration dictionary. However, you may still use such keys for various purposes. For example, as [YAML anchors and aliases](https://confluence.atlassian.com/bitbucket/yaml-anchors-960154027.html).\n",
    "\n",
    "* If 2 configuration files have duplicate top-level keys, but are placed into different environment paths (one in `conf/base/`, another in `conf/local/`, for example) then the last loaded path (`conf/local/` in this case) takes precedence and overrides that key value. `ConfigLoader.get(<pattern>, ...)` will not raise any errors, however a `DEBUG` level log message will be emitted with the information on the over-ridden keys.\n",
    "* If the same environment path is passed multiple times, a `UserWarning` will be emitted to draw attention to the duplicate loading attempt, and any subsequent loading after the first one will be skipped."
   ]
  },
  {
   "cell_type": "code",
   "execution_count": null,
   "metadata": {},
   "outputs": [],
   "source": [
    "# Load Credentials\n",
    "from kedro.config import ConfigLoader\n",
    "\n",
    "conf_paths = [\"conf/base\", \"conf/local\"]\n",
    "conf_loader = ConfigLoader(conf_paths)\n",
    "conf_catalog = conf_loader.get(\"credentials*\")"
   ]
  },
  {
   "cell_type": "markdown",
   "metadata": {},
   "source": [
    "# 2. The Azure Machine Learning SDK for Python\n",
    "While graphical interfaces like Azure Machine Learning studio make it easy to create and manage machine learning assets, it is often dvantageous to use a code-based approach to managing resources. By writing scripts to create and manage resources, you can:\n",
    "\n",
    "* Automate asset creation and configuration to make it repeatable.\n",
    "* Ensure consistency for resources that must be replicated in multiple environments (for example, development, test, and production)\n",
    "* Incorporate machine learning asset configuration into developer operations (DevOps) workflows, such as continuous integration / continuous deployment (CI/CD) pipelines.\n",
    "Azure Machine Learning provides software development kits (SDKs) for Python and R, which you can use to create, manage, and use assets in an Azure Machine Learning workspace.\n",
    "\n",
    "> *Note:*: This course focuses on the Python SDK because it has broader capabilities than the R SDK, which is in preview at the time of writing.\n",
    "\n",
    "# 3.Installing the Azure Machine Learning SDK for Python\n",
    "You can install the Azure Machine Learning SDK for Python by using the pip package management utility, as shown in the following code sample:\n",
    "\n",
    "```python\n",
    "pip install azureml-sdk\n",
    "```\n",
    "\n",
    "The SDK includes optional extras that aren't required for core operations, but can be useful in some scenarios. For example, the notebooks extra includes widgets for displaying detailed output in Jupyter Notebooks, the automl extra includes packages for automated machine learning training, and the explain extra includes packages for generating model explanations. To install extras, specify them in brackets as shown here:\n",
    "\n",
    "```python\n",
    "pip install azureml-sdk[notebooks,automl,explain]\n",
    "```\n",
    "\n",
    "More Information: For more information about installing the Azure Machine Learning SDK for Python, see the SDK documentation. Also, you should be aware that the SDK is updated on a regular basis, and review the release notes for the latest release."
   ]
  },
  {
   "cell_type": "code",
   "execution_count": null,
   "metadata": {},
   "outputs": [],
   "source": [
    "!pip install azureml-sdk[notebooks,automl,explain]"
   ]
  },
  {
   "cell_type": "markdown",
   "metadata": {},
   "source": [
    "# 2. Creating a Workspace\n",
    "You can create a workspace in any of the following ways:\n",
    "\n",
    "* In the Microsoft Azure portal, create a new Machine Learning resource, specifying the subscription, resource group, workspace name, and workspace edition.\n",
    "* Use the Azure Machine Learning Python SDK to run code that creates a workspace. For example:\n",
    "\n",
    "```python\n",
    "from azureml.core import Workspace\n",
    "    \n",
    "ws = Workspace.create(name='aml-workspace', \n",
    "                  subscription_id='123456-abc-123...',\n",
    "                  resource_group='aml-resources',\n",
    "                  create_resource_group=True,\n",
    "                  location='eastus',\n",
    "                  sku='enterprise'\n",
    "                 )\n",
    "```"
   ]
  },
  {
   "cell_type": "code",
   "execution_count": null,
   "metadata": {},
   "outputs": [],
   "source": [
    "from azureml.core import Workspace\n",
    "from azureml.exceptions import WorkspaceException\n",
    "\n",
    "# Create Azure Workspacefor the given subscription ID\n",
    "try:\n",
    "    ws = Workspace.create(name='azml-workspace', \n",
    "                          subscription_id=conf_catalog['azure_ml']['subscription_id'],\n",
    "                          resource_group='aml-resources',\n",
    "                          create_resource_group=True,\n",
    "                          location='eastus',\n",
    "                          sku='enterprise'\n",
    "                         )\n",
    "    ws.write_config(file_name=\"ws_config.json\")\n",
    "except WorkspaceException :\n",
    "    print('Workspace Already Exists, hence not created.')\n",
    "    print('Loading Worksapce from config')\n",
    "\n",
    "    # Load Worskapce from config\n",
    "    ws = Workspace.from_config()\n",
    "    \n",
    "    # Alternative , load from azure ml\n",
    "    '''\n",
    "    ws = Workspace.get(name=\"azml-workspace\",\n",
    "                       subscription_id=conf_catalog['azure_ml']['subscription_id'],\n",
    "                       resource_group='aml-resources')\n",
    "    '''\n",
    "\n",
    "   "
   ]
  },
  {
   "cell_type": "code",
   "execution_count": null,
   "metadata": {},
   "outputs": [],
   "source": []
  }
 ],
 "metadata": {
  "kernelspec": {
   "display_name": "AzureDataScience",
   "language": "python",
   "name": "python3"
  },
  "language_info": {
   "codemirror_mode": {
    "name": "ipython",
    "version": 3
   },
   "file_extension": ".py",
   "mimetype": "text/x-python",
   "name": "python",
   "nbconvert_exporter": "python",
   "pygments_lexer": "ipython3",
   "version": "3.6.10"
  }
 },
 "nbformat": 4,
 "nbformat_minor": 4
}
